{
 "cells": [
  {
   "cell_type": "markdown",
   "metadata": {},
   "source": [
    "# Я художник, я так вижу, визуализация данных в питоне"
   ]
  },
  {
   "cell_type": "markdown",
   "metadata": {},
   "source": [
    "# I. Numpy"
   ]
  },
  {
   "cell_type": "markdown",
   "metadata": {},
   "source": [
    "### Импортируйте NumPy"
   ]
  },
  {
   "cell_type": "code",
   "execution_count": 41,
   "metadata": {},
   "outputs": [],
   "source": [
    "# ВАШ КОД ЗДЕСЬ\n",
    "import numpy as np"
   ]
  },
  {
   "cell_type": "markdown",
   "metadata": {},
   "source": [
    "### Создайте одномерный массив размера 10, заполненный нулями и пятым элемент равным 1. Трансформируйте в двумерный массив."
   ]
  },
  {
   "cell_type": "code",
   "execution_count": 10,
   "metadata": {},
   "outputs": [
    {
     "name": "stdout",
     "output_type": "stream",
     "text": [
      "[[0. 0. 0. 0. 1.]\n",
      " [0. 0. 0. 0. 0.]]\n"
     ]
    }
   ],
   "source": [
    "# ВАШ КОД ЗДЕСЬ\n",
    "arr = np.zeros(10)\n",
    "arr[4] = 1\n",
    "arr.shape = (2, 5)\n",
    "print(arr)"
   ]
  },
  {
   "cell_type": "markdown",
   "metadata": {},
   "source": [
    "### Создайте одномерный массив со значениями от 10 до 49 и разверните его (первый элемент становится последним). Найдите в нем все четные элементы."
   ]
  },
  {
   "cell_type": "code",
   "execution_count": 17,
   "metadata": {},
   "outputs": [
    {
     "name": "stdout",
     "output_type": "stream",
     "text": [
      "[49 48 47 46 45 44 43 42 41 40 39 38 37 36 35 34 33 32 31 30 29 28 27 26\n",
      " 25 24 23 22 21 20 19 18 17 16 15 14 13 12 11 10]\n",
      "[False  True False  True False  True False  True False  True False  True\n",
      " False  True False  True False  True False  True False  True False  True\n",
      " False  True False  True False  True False  True False  True False  True\n",
      " False  True False  True]\n",
      "[48 46 44 42 40 38 36 34 32 30 28 26 24 22 20 18 16 14 12 10]\n"
     ]
    }
   ],
   "source": [
    "# ВАШ КОД ЗДЕСЬ\n",
    "arr = np.arange(10, 50)\n",
    "reverse_arr = np.flip(arr)\n",
    "mode_2 =0 == (reverse_arr % 2)\n",
    "reverse_arr_mode_2 = reverse_arr[mode_2]\n",
    "print(reverse_arr)\n",
    "print(mode_2)\n",
    "print(reverse_arr_mode_2)"
   ]
  },
  {
   "cell_type": "markdown",
   "metadata": {},
   "source": [
    "### Создайте двумерный массив 3x3 со значениями от 0 до 8"
   ]
  },
  {
   "cell_type": "code",
   "execution_count": 20,
   "metadata": {},
   "outputs": [
    {
     "name": "stdout",
     "output_type": "stream",
     "text": [
      "[[0 1 2]\n",
      " [3 4 5]\n",
      " [6 7 8]]\n"
     ]
    }
   ],
   "source": [
    "# ВАШ КОД ЗДЕСЬ\n",
    "arr = np.arange(0, 9).reshape(3, 3)\n",
    "print(arr)"
   ]
  },
  {
   "cell_type": "markdown",
   "metadata": {},
   "source": [
    "### Создайте массив 4x3x2 со случайными значениями. Найти его минимум и максимум."
   ]
  },
  {
   "cell_type": "code",
   "execution_count": 34,
   "metadata": {},
   "outputs": [
    {
     "name": "stdout",
     "output_type": "stream",
     "text": [
      "[[[0.35646549 0.64901121]\n",
      "  [0.46787737 0.56671094]\n",
      "  [0.32162665 0.37541834]]\n",
      "\n",
      " [[0.36240984 0.41120487]\n",
      "  [0.12528429 0.02409135]\n",
      "  [0.34147625 0.83168216]]\n",
      "\n",
      " [[0.54179598 0.69340193]\n",
      "  [0.75832812 0.48068125]\n",
      "  [0.70725344 0.81710021]]\n",
      "\n",
      " [[0.72825502 0.82090473]\n",
      "  [0.59352503 0.87874971]\n",
      "  [0.18073177 0.047549  ]]]\n",
      " Минимальное значение в массиве:  0.024091353307196695,   максимальное значение в массиве: 0.8787497083980739\n"
     ]
    }
   ],
   "source": [
    "# ВАШ КОД ЗДЕСЬ\n",
    "arr = np.random.rand(4, 3, 2)\n",
    "min_arr = arr.min()\n",
    "max_arr = arr.max()\n",
    "print(arr)\n",
    "print(f' Минимальное значение в массиве:  {min_arr}, ', \n",
    "      f' максимальное значение в массиве: {max_arr}')"
   ]
  },
  {
   "cell_type": "markdown",
   "metadata": {},
   "source": [
    "### Создайте два двумерных массива размерами 6x4 и 4x3 и произведите их матричное умножение. "
   ]
  },
  {
   "cell_type": "code",
   "execution_count": 40,
   "metadata": {},
   "outputs": [
    {
     "data": {
      "text/plain": [
       "array([[0.38223838, 0.13163786, 0.26673404, 0.01304885],\n",
       "       [0.11954051, 0.05558236, 0.37004741, 0.58354858],\n",
       "       [0.08268804, 0.11913996, 0.65708288, 0.36368583],\n",
       "       [0.43819712, 0.3326963 , 0.58238165, 0.00155352],\n",
       "       [0.58855246, 0.70543465, 0.90009986, 0.52406887],\n",
       "       [0.39919843, 0.81309414, 0.5977208 , 0.0131085 ]])"
      ]
     },
     "metadata": {},
     "output_type": "display_data"
    },
    {
     "data": {
      "text/plain": [
       "array([[0.94151222, 0.52799948, 0.50990333],\n",
       "       [0.01539816, 0.03499469, 0.43245709],\n",
       "       [0.1055354 , 0.4293797 , 0.25685016],\n",
       "       [0.27698854, 0.02117989, 0.50238744]])"
      ]
     },
     "metadata": {},
     "output_type": "display_data"
    },
    {
     "name": "stdout",
     "output_type": "stream",
     "text": [
      "[[0.39367335 0.32123485 0.32689861]\n",
      " [0.31409409 0.23631275 0.47320531]\n",
      " [0.24976864 0.33766938 0.44516886]\n",
      " [0.47958304 0.49310622 0.51768033]\n",
      " [0.80514519 0.73302619 1.09965149]\n",
      " [0.45508196 0.49615736 0.71529117]]\n"
     ]
    }
   ],
   "source": [
    "# ВАШ КОД ЗДЕСЬ\n",
    "arr_1 = np.random.rand(6, 4)\n",
    "arr_2 = np.random.rand(4, 3)\n",
    "display(arr_1, arr_2)\n",
    "dot_arrs = np.dot(arr_1, arr_2)\n",
    "print(dot_arrs)"
   ]
  },
  {
   "cell_type": "markdown",
   "metadata": {},
   "source": [
    "### Создайте случайный двумерный массив 7x7, найти у него среднее и стандартное оклонение. Нормализуйте этот массив."
   ]
  },
  {
   "cell_type": "code",
   "execution_count": 70,
   "metadata": {},
   "outputs": [
    {
     "name": "stdout",
     "output_type": "stream",
     "text": [
      "[[ 5 45 65 85  9 96 94]\n",
      " [19 15 46 89 94 40 35]\n",
      " [42  9 41  6 28 85 35]\n",
      " [30 83 82 39 20 20 67]\n",
      " [92  8 28 24 24 12 95]\n",
      " [14 53 76 48  2 48 88]\n",
      " [84 59 61 49 94 60 94]]\n",
      " Среднее значение в массиве: 49.734693877551024\n",
      " Стандартное отклонение в массиве: 30.483702912763665\n",
      "[[-1.4674954  -0.15531886  0.50076942  1.15685769 -1.33627775  1.51770624\n",
      "   1.45209741]\n",
      " [-1.00823361 -1.13945127 -0.12251444  1.28807534  1.45209741 -0.31934092\n",
      "  -0.48336299]\n",
      " [-0.2537321  -1.33627775 -0.28653651 -1.43469099 -0.71299389  1.15685769\n",
      "  -0.48336299]\n",
      " [-0.64738506  1.09124886  1.05844445 -0.35214534 -0.9754292  -0.9754292\n",
      "   0.56637824]\n",
      " [ 1.38648859 -1.36908216 -0.71299389 -0.84421154 -0.84421154 -1.23786451\n",
      "   1.48490183]\n",
      " [-1.17225568  0.10711645  0.86161797 -0.05690562 -1.56590864 -0.05690562\n",
      "   1.25527093]\n",
      " [ 1.12405328  0.30394293  0.36955176 -0.0241012   1.45209741  0.33674735\n",
      "   1.45209741]]\n"
     ]
    }
   ],
   "source": [
    "# ВАШ КОД ЗДЕСЬ\n",
    "np.random.seed(22)\n",
    "arr = np.random.randint(1, 100, size=(7, 7))\n",
    "arr_mean = np.mean(arr)\n",
    "arr_std = np.std(arr)\n",
    "#normalize_arr = (arr - arr.mean(axis=0)) / arr.std(axis=0)\n",
    "normalize_arr = (arr - arr_mean) / arr_std\n",
    "print(arr)\n",
    "print(f' Среднее значение в массиве: {arr_mean}')\n",
    "print(f' Стандартное отклонение в массиве: {arr_std}')\n",
    "print(normalize_arr)"
   ]
  },
  {
   "cell_type": "markdown",
   "metadata": {},
   "source": [
    "# II. Pandas"
   ]
  },
  {
   "cell_type": "markdown",
   "metadata": {},
   "source": [
    "### Импортируйте: pandas, matplotlib, seaborn"
   ]
  },
  {
   "cell_type": "code",
   "execution_count": 146,
   "metadata": {},
   "outputs": [],
   "source": [
    "# ВАШ КОД ЗДЕСЬ\n",
    "import pandas as pd\n",
    "import matplotlib as mpl\n",
    "import seaborn as sns"
   ]
  },
  {
   "cell_type": "markdown",
   "metadata": {},
   "source": [
    "### Загрузите датасет Tips из набора датасетов seaborn"
   ]
  },
  {
   "cell_type": "code",
   "execution_count": 136,
   "metadata": {},
   "outputs": [],
   "source": [
    "# ВАШ КОД ЗДЕСЬ\n",
    "tips = sns.load_dataset(\"tips\")"
   ]
  },
  {
   "cell_type": "markdown",
   "metadata": {},
   "source": [
    "### Посмотрите на первые 5 строчек"
   ]
  },
  {
   "cell_type": "code",
   "execution_count": 137,
   "metadata": {},
   "outputs": [
    {
     "name": "stdout",
     "output_type": "stream",
     "text": [
      "   total_bill   tip     sex smoker  day    time  size\n",
      "0       16.99  1.01  Female     No  Sun  Dinner     2\n",
      "1       10.34  1.66    Male     No  Sun  Dinner     3\n",
      "2       21.01  3.50    Male     No  Sun  Dinner     3\n",
      "3       23.68  3.31    Male     No  Sun  Dinner     2\n",
      "4       24.59  3.61  Female     No  Sun  Dinner     4\n"
     ]
    }
   ],
   "source": [
    "# ВАШ КОД ЗДЕСЬ\n",
    "print(tips.head())"
   ]
  },
  {
   "cell_type": "markdown",
   "metadata": {},
   "source": [
    "### Узнайте сколько всего строчек и колонок в данных"
   ]
  },
  {
   "cell_type": "code",
   "execution_count": 138,
   "metadata": {},
   "outputs": [
    {
     "name": "stdout",
     "output_type": "stream",
     "text": [
      "(244, 7)\n"
     ]
    }
   ],
   "source": [
    "# ВАШ КОД ЗДЕСЬ\n",
    "print(tips.shape)"
   ]
  },
  {
   "cell_type": "markdown",
   "metadata": {},
   "source": [
    "### Проверьте есть ли пропуски в данных"
   ]
  },
  {
   "cell_type": "code",
   "execution_count": 139,
   "metadata": {},
   "outputs": [
    {
     "name": "stdout",
     "output_type": "stream",
     "text": [
      "<class 'pandas.core.frame.DataFrame'>\n",
      "RangeIndex: 244 entries, 0 to 243\n",
      "Data columns (total 7 columns):\n",
      " #   Column      Non-Null Count  Dtype   \n",
      "---  ------      --------------  -----   \n",
      " 0   total_bill  244 non-null    float64 \n",
      " 1   tip         244 non-null    float64 \n",
      " 2   sex         244 non-null    category\n",
      " 3   smoker      244 non-null    category\n",
      " 4   day         244 non-null    category\n",
      " 5   time        244 non-null    category\n",
      " 6   size        244 non-null    int64   \n",
      "dtypes: category(4), float64(2), int64(1)\n",
      "memory usage: 7.4 KB\n",
      "None\n"
     ]
    }
   ],
   "source": [
    "# ВАШ КОД ЗДЕСЬ\n",
    "print(tips.info())"
   ]
  },
  {
   "cell_type": "markdown",
   "metadata": {},
   "source": [
    "### Посмотрите на распределение числовых признаков"
   ]
  },
  {
   "cell_type": "code",
   "execution_count": 91,
   "metadata": {},
   "outputs": [
    {
     "name": "stdout",
     "output_type": "stream",
     "text": [
      "       total_bill         tip        size\n",
      "count  244.000000  244.000000  244.000000\n",
      "mean    19.785943    2.998279    2.569672\n",
      "std      8.902412    1.383638    0.951100\n",
      "min      3.070000    1.000000    1.000000\n",
      "25%     13.347500    2.000000    2.000000\n",
      "50%     17.795000    2.900000    2.000000\n",
      "75%     24.127500    3.562500    3.000000\n",
      "max     50.810000   10.000000    6.000000\n"
     ]
    }
   ],
   "source": [
    "# ВАШ КОД ЗДЕСЬ\n",
    "print(tips.describe())"
   ]
  },
  {
   "cell_type": "markdown",
   "metadata": {},
   "source": [
    "### Найдите максимальное значение 'total_bill'"
   ]
  },
  {
   "cell_type": "code",
   "execution_count": 94,
   "metadata": {},
   "outputs": [
    {
     "name": "stdout",
     "output_type": "stream",
     "text": [
      "50.81\n"
     ]
    }
   ],
   "source": [
    "# ВАШ КОД ЗДЕСЬ\n",
    "max_ttl_bill = tips['total_bill'].max()\n",
    "print(max_ttl_bill)"
   ]
  },
  {
   "cell_type": "markdown",
   "metadata": {},
   "source": [
    "### Найдите количество курящих людей"
   ]
  },
  {
   "cell_type": "code",
   "execution_count": 140,
   "metadata": {},
   "outputs": [
    {
     "name": "stdout",
     "output_type": "stream",
     "text": [
      "93\n"
     ]
    }
   ],
   "source": [
    "# ВАШ КОД ЗДЕСЬ\n",
    "cnt_no_smoke = tips[tips.smoker == 'Yes'].shape[0]\n",
    "print(cnt_no_smoke)\n"
   ]
  },
  {
   "cell_type": "markdown",
   "metadata": {},
   "source": [
    "### Узнайте какой средний 'total_bill' в зависимости от 'day'"
   ]
  },
  {
   "cell_type": "code",
   "execution_count": 118,
   "metadata": {},
   "outputs": [
    {
     "name": "stdout",
     "output_type": "stream",
     "text": [
      "day\n",
      "Thur    17.682742\n",
      "Fri     17.151579\n",
      "Sat     20.441379\n",
      "Sun     21.410000\n",
      "Name: total_bill, dtype: float64\n"
     ]
    },
    {
     "name": "stderr",
     "output_type": "stream",
     "text": [
      "C:\\Users\\Nastya\\AppData\\Local\\Temp\\ipykernel_4668\\2930030325.py:2: FutureWarning: The default of observed=False is deprecated and will be changed to True in a future version of pandas. Pass observed=False to retain current behavior or observed=True to adopt the future default and silence this warning.\n",
      "  mean_ttl_bill_by_day = tips.groupby(['day'])['total_bill'].mean()\n"
     ]
    }
   ],
   "source": [
    "# ВАШ КОД ЗДЕСЬ\n",
    "mean_ttl_bill_by_day = tips.groupby(['day'])['total_bill'].mean()\n",
    "print(mean_ttl_bill_by_day)"
   ]
  },
  {
   "cell_type": "markdown",
   "metadata": {},
   "source": [
    "### Отберите строчки с 'total_bill' больше медианы и узнайте какой средний 'tip' в зависимости от 'sex'"
   ]
  },
  {
   "cell_type": "code",
   "execution_count": 134,
   "metadata": {},
   "outputs": [
    {
     "name": "stdout",
     "output_type": "stream",
     "text": [
      "sex\n",
      "Male      3.756404\n",
      "Female    3.663939\n",
      "Name: tip, dtype: float64\n"
     ]
    },
    {
     "name": "stderr",
     "output_type": "stream",
     "text": [
      "C:\\Users\\Nastya\\AppData\\Local\\Temp\\ipykernel_4668\\1100548467.py:2: FutureWarning: The default of observed=False is deprecated and will be changed to True in a future version of pandas. Pass observed=False to retain current behavior or observed=True to adopt the future default and silence this warning.\n",
      "  mean_tip_by_sex = tips[tips.total_bill > tips.total_bill.median()].groupby(['sex'])['tip'].mean()\n"
     ]
    }
   ],
   "source": [
    "# ВАШ КОД ЗДЕСЬ\n",
    "mean_tip_by_sex = tips[tips.total_bill > tips.total_bill.median()].groupby(['sex'])['tip'].mean()\n",
    "print(mean_tip_by_sex)"
   ]
  },
  {
   "cell_type": "markdown",
   "metadata": {},
   "source": [
    "### Преобразуйте признак 'smoker' в бинарный (0-No, 1-Yes)"
   ]
  },
  {
   "cell_type": "code",
   "execution_count": 141,
   "metadata": {},
   "outputs": [
    {
     "name": "stdout",
     "output_type": "stream",
     "text": [
      "     total_bill   tip     sex smoker   day    time  size\n",
      "0         16.99  1.01  Female      0   Sun  Dinner     2\n",
      "1         10.34  1.66    Male      0   Sun  Dinner     3\n",
      "2         21.01  3.50    Male      0   Sun  Dinner     3\n",
      "3         23.68  3.31    Male      0   Sun  Dinner     2\n",
      "4         24.59  3.61  Female      0   Sun  Dinner     4\n",
      "..          ...   ...     ...    ...   ...     ...   ...\n",
      "239       29.03  5.92    Male      0   Sat  Dinner     3\n",
      "240       27.18  2.00  Female      1   Sat  Dinner     2\n",
      "241       22.67  2.00    Male      1   Sat  Dinner     2\n",
      "242       17.82  1.75    Male      0   Sat  Dinner     2\n",
      "243       18.78  3.00  Female      0  Thur  Dinner     2\n",
      "\n",
      "[244 rows x 7 columns]\n"
     ]
    }
   ],
   "source": [
    "# ВАШ КОД ЗДЕСЬ\n",
    "s = {'No': 0, 'Yes': 1}\n",
    "tips['smoker'] = tips['smoker'].map(s)\n",
    "print(tips)"
   ]
  },
  {
   "cell_type": "markdown",
   "metadata": {},
   "source": [
    "# III. Visualization"
   ]
  },
  {
   "cell_type": "markdown",
   "metadata": {},
   "source": [
    "### Постройте гистограмму распределения признака 'total_bill'"
   ]
  },
  {
   "cell_type": "code",
   "execution_count": 145,
   "metadata": {},
   "outputs": [
    {
     "data": {
      "text/plain": [
       "<Axes: xlabel='total_bill', ylabel='Count'>"
      ]
     },
     "execution_count": 145,
     "metadata": {},
     "output_type": "execute_result"
    },
    {
     "data": {
      "image/png": "[encoded data removed]",
      "text/plain": [
       "<Figure size 640x480 with 1 Axes>"
      ]
     },
     "metadata": {},
     "output_type": "display_data"
    }
   ],
   "source": [
    "# ВАШ КОД ЗДЕСЬ\n",
    "sns.histplot(data=tips, x='total_bill') "
   ]
  },
  {
   "cell_type": "markdown",
   "metadata": {},
   "source": [
    "### Постройте scatterplot, представляющий взаимосвязь между признаками 'total_bill' и 'tip'"
   ]
  },
  {
   "cell_type": "code",
   "execution_count": 147,
   "metadata": {},
   "outputs": [
    {
     "data": {
      "text/plain": [
       "<Axes: xlabel='total_bill', ylabel='tip'>"
      ]
     },
     "execution_count": 147,
     "metadata": {},
     "output_type": "execute_result"
    },
    {
     "data": {
      "image/png": "[encoded data removed]",
      "text/plain": [
       "<Figure size 640x480 with 1 Axes>"
      ]
     },
     "metadata": {},
     "output_type": "display_data"
    }
   ],
   "source": [
    "# ВАШ КОД ЗДЕСЬ\n",
    "sns.scatterplot(data=tips, x='total_bill', y='tip')"
   ]
  },
  {
   "cell_type": "markdown",
   "metadata": {},
   "source": [
    "### Постройте pairplot"
   ]
  },
  {
   "cell_type": "code",
   "execution_count": null,
   "metadata": {},
   "outputs": [],
   "source": [
    "# ВАШ КОД ЗДЕСЬ"
   ]
  },
  {
   "cell_type": "markdown",
   "metadata": {},
   "source": [
    "### Постройте график взаимосвязи между признаками 'total_bill' и 'day'"
   ]
  },
  {
   "cell_type": "code",
   "execution_count": null,
   "metadata": {},
   "outputs": [],
   "source": [
    "# ВАШ КОД ЗДЕСЬ"
   ]
  },
  {
   "cell_type": "markdown",
   "metadata": {},
   "source": [
    "### Постройте две гистограммы распределения признака 'tip' в зависимости от категорий 'time'"
   ]
  },
  {
   "cell_type": "code",
   "execution_count": null,
   "metadata": {},
   "outputs": [],
   "source": [
    "# ВАШ КОД ЗДЕСЬ"
   ]
  },
  {
   "cell_type": "markdown",
   "metadata": {},
   "source": [
    "### Постройте два графика scatterplot, представляющих взаимосвязь между признаками 'total_bill' и 'tip' один для Male, другой для Female и раскрасьте точки в зависимоти от признака 'smoker'"
   ]
  },
  {
   "cell_type": "code",
   "execution_count": null,
   "metadata": {},
   "outputs": [],
   "source": [
    "# ВАШ КОД ЗДЕСЬ"
   ]
  },
  {
   "cell_type": "markdown",
   "metadata": {},
   "source": [
    "## Сделайте выводы по анализу датасета и построенным графикам. По желанию можете продолжить анализ данных и также отразить это в выводах."
   ]
  },
  {
   "cell_type": "code",
   "execution_count": null,
   "metadata": {},
   "outputs": [],
   "source": [
    "# ВАШ КОД ЗДЕСЬ"
   ]
  }
 ],
 "metadata": {
  "kernelspec": {
   "display_name": "Python 3",
   "language": "python",
   "name": "python3"
  },
  "language_info": {
   "codemirror_mode": {
    "name": "ipython",
    "version": 3
   },
   "file_extension": ".py",
   "mimetype": "text/x-python",
   "name": "python",
   "nbconvert_exporter": "python",
   "pygments_lexer": "ipython3",
   "version": "3.12.3"
  },
  "toc-autonumbering": false
 },
 "nbformat": 4,
 "nbformat_minor": 2
}
